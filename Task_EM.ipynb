{
 "cells": [
  {
   "cell_type": "markdown",
   "metadata": {},
   "source": [
    "# Задание по EM-алгоритму\n",
    "\n",
    "__Предупреждение про списывание.__ Строго запрещается использовать код других студентов в своем решении. Код из открытых источников разрешается брать только фрагментами по одной строке (например, скопировать пример использования какой-то функции), нельзя копировать код по несколько строк. В случае обнаружения похожих решений выставляется 0 за __все__ задание __обоим__ студентам, чьи работы являются похожими, и подается служебная записка в деканат."
   ]
  },
  {
   "cell_type": "markdown",
   "metadata": {},
   "source": [
    "## Теоретическая часть\n",
    "\n",
    "__Теоретическая задача (Смесь мультиномиальных распределений), 2 балла__\n",
    "\n",
    "Пусть $X=\\{x_1, \\dots, x_N\\}$, $x_i \\in \\{1, 2, 3\\}$  - независимая выборка из смеси двух мультиномиальных распределений:\n",
    "\n",
    "$$p_1: \\begin{matrix}\n",
    "1 & 2 & 3\\\\\n",
    "\\alpha & 1-\\alpha & 0\n",
    "\\end{matrix}\n",
    "$$\n",
    "\n",
    "$$\n",
    "p_2: \\begin{matrix}\n",
    "1 & 2 & 3\\\\\n",
    "0 & 1-\\beta & \\beta\n",
    "\\end{matrix}$$\n",
    "\n",
    "В наблюдаемой выборке $X$ содержится 30 единиц, 20 двоек и 60 троек. Проведите первую итерацию ЕМ-алгоритма разделения смеси (Е-шаг и М-шаг) из начального приближения $\\alpha_0 = \\beta_0 = \\gamma_0 = 0.5$. \n",
    "\n",
    "Скрытые переменные: $Z = \\{z_1, \\dots, z_N\\}$, $z_i = [x_i \\in p_1]$ (индикатор того, что i-й объект сгенерирован из первого распределения)\n",
    "\n",
    "Вероятностная модель:\n",
    "\n",
    "$$p(X, Z|\\alpha, \\beta, \\gamma) = \\prod_{i=1}^N p(x_i, z_i|\\alpha, \\beta, \\gamma) = \\prod_{i=1}^N \\bigl(\\gamma p_1(x_i|\\alpha)\\bigr)^{z_i} \\bigl((1-\\gamma) p_2(x_i|\\beta)\\bigr)^{1-z_i} $$\n",
    "\n",
    "_Подсказки:_\n",
    "* На Е-шаге найдите апостериорные вероятности $q_i = q(z_i=1) = p(z_i|x_i, \\alpha, \\beta, \\gamma)$, рассмотрите три случая $x_i=1,2,3$ и для каждого вычислите соответствующее числовое значение величины $q_i$, используя начальное приближение.\n",
    "* На M-шаге решите задачу $$\\mathbb{E}_{q(Z)} \\log ~ p(X, Z|\\alpha, \\beta, \\gamma) = \\sum_{i=1}^N \\mathbb{E}_{q(z_i)} log ~p(x_i, z_i|\\alpha, \\beta, \\gamma) \\rightarrow \\max_{\\alpha, \\beta, \\gamma} $$ Вам потребуется мат. ожидание распределения Бернулли: $\\mathbb{E}_{q(z_i)} z_i = q_i$. Сумма по объектам заменится на сумму по трем случаям $x_i=1,2,3$ с учетом количества выпадений каждого номера в выборке. Чтобы выполнить максимизацию, вычислите производную по параметрам, лангранжиан использовать не нужно. В результате этого шага у вас должны получиться числовые значения параметров $\\alpha, \\beta, \\gamma$.\n",
    "* Для самопроверки можете посчитать значения $q_i$ для следующего Е-шага, у вас должны получиться такие же значения, что на предыдущем шаге, что означает, что ЕМ-алгоритм сошелся за одну итерацию."
   ]
  },
  {
   "cell_type": "markdown",
   "metadata": {},
   "source": [
    "## Практическая часть\n",
    "\n",
    "В этом задании вам предстоит реализовать EM-алгоритм для разделения смеси многомерных гауссиан, протестировать реализацию на синтетических данных и изображениях цифр и проанализировать результаты.\n",
    "\n",
    "### Генерация синтетических данных\n",
    "\n",
    "Для целей отладки будем использовать синтетические данные. Сгенерируем их с помощью sklearn:"
   ]
  },
  {
   "cell_type": "code",
   "execution_count": 1,
   "metadata": {
    "collapsed": true
   },
   "outputs": [],
   "source": [
    "from sklearn.datasets import make_blobs\n",
    "from matplotlib import pyplot as plt\n",
    "%matplotlib inline"
   ]
  },
  {
   "cell_type": "code",
   "execution_count": 9,
   "metadata": {},
   "outputs": [
    {
     "data": {
      "text/plain": [
       "Text(0,0.5,'feature 2')"
      ]
     },
     "execution_count": 9,
     "metadata": {},
     "output_type": "execute_result"
    },
    {
     "data": {
      "image/png": "[encoded data removed]",
      "text/plain": [
       "<matplotlib.figure.Figure at 0x1a1dfcfe80>"
      ]
     },
     "metadata": {},
     "output_type": "display_data"
    }
   ],
   "source": [
    "X, y = make_blobs()\n",
    "plt.scatter(*X.T)\n",
    "plt.xlabel(\"feature 1\")\n",
    "plt.ylabel(\"feature 2\")"
   ]
  },
  {
   "cell_type": "markdown",
   "metadata": {},
   "source": [
    "Если у вас сгенерировались \"слипшиеся\" гауссианы, перезапустите ячейку."
   ]
  },
  {
   "cell_type": "markdown",
   "metadata": {},
   "source": [
    "### Реализация EM-алгоритма для разделения смеси гауссиан\n",
    "\n",
    "Как и при реализации многих других алгоритмов машинного обучения, нашим основным инструментом будет модуль numpy:"
   ]
  },
  {
   "cell_type": "code",
   "execution_count": 11,
   "metadata": {
    "collapsed": true
   },
   "outputs": [],
   "source": [
    "import numpy as np"
   ]
  },
  {
   "cell_type": "markdown",
   "metadata": {},
   "source": [
    "__Задание 1. (5 баллов, выставляются только при наличии визуализации в следующей задаче)__ Реализуйте EM-алгоритм, следуя интерфейсу sklearn, см. прототип ниже. EM-алгоритм описан на слайде 48 в [презентации](https://github.com/ftad/BM2020/blob/master/materials/presentation_EM_ftad.pdf).\n",
    "\n",
    "* Один из шагов EM-алгоритма разделения смеси включает подсчет матрицы ковариации. С этим поможет функция [np.cov](https://numpy.org/doc/stable/reference/generated/numpy.cov.html), пример использования дан ниже. Посмотрите документацию функции и обратите внимание на параметр, позволяющий задавать веса объектов!\n",
    "* Один из шагов EM-алгоритма включает подсчет плотности многомерного нормального распределения. С этим поможет функция [scipy.stats.multivariate_normal](https://docs.scipy.org/doc/scipy/reference/generated/scipy.stats.multivariate_normal.html).\n",
    "* Чтобы избежать ошибки Singular matrix, сообщающей, что у какой-то гауссианы получилась вырожденная матрица ковариации, прибавляйте к вычисляемым матрицам ковариации единичную матрицу, умноженную на небольшой коэффициент (cov_reg в реализации).\n",
    "\n",
    "Вов всех заданиях ниже рекомендуется использовать гиперпараметры, заданные по умолчанию, если не указано иное."
   ]
  },
  {
   "cell_type": "code",
   "execution_count": null,
   "metadata": {
    "collapsed": true
   },
   "outputs": [],
   "source": [
    "# example with np.cov\n",
    "np.cov(X, rowvar=False)"
   ]
  },
  {
   "cell_type": "code",
   "execution_count": null,
   "metadata": {
    "collapsed": true
   },
   "outputs": [],
   "source": [
    "from scipy.stats import multivariate_normal\n",
    "from sklearn.base import BaseEstimator\n",
    "\n",
    "class GMM(BaseEstimator):\n",
    "    def __init__(self, num_clusters=3, num_iters=100, cov_reg=1e-6):\n",
    "        self.num_clusters = num_clusters\n",
    "        self.num_iters = num_iters\n",
    "        self.cov_reg = cov_reg\n",
    "        \n",
    "    def fit_transform(self, X):\n",
    "        \"\"\"\n",
    "        * input: data matrix X, shape: [num_objects, num_features]\n",
    "        \n",
    "        The method runs EM-algorithm to fit \n",
    "        a mixture of multinomial Gaussians on data.\n",
    "        At the end of running, the following atributes should be learned:\n",
    "        * self.mu: Gaussians' means, shape: [num_clusters, num_features]\n",
    "        * self.sigma: Gaussians' covariance matrices, \n",
    "                      shape: [num_clusters, num_features, num_features]\n",
    "        * self.pi: prior misture weights, shape: [num_clusters]\n",
    "                   self.pi should sum to 1\n",
    "        The code for attribute initialization is given below\n",
    "        \n",
    "        The method returns:\n",
    "        * y: posterior distribution over Gaussians for each objects,\n",
    "             shape: [num_objects, num_clusters]\n",
    "        \"\"\"\n",
    "        self.n = X.shape[0]\n",
    "        self.d = X.shape[1]\n",
    "        self.mu = 2*np.random.rand(self.num_clusters, self.d) - 1\n",
    "        self.sigma = np.concatenate([np.eye(self.d)[None, :, :] \\\n",
    "                     for k in range(self.num_clusters)], axis=0)\n",
    "        self.pi = np.random.rand(self.num_clusters)\n",
    "        self.pi /= self.pi.sum()\n",
    "        \n",
    "        ### your code below ###\n",
    "        "
   ]
  },
  {
   "cell_type": "markdown",
   "metadata": {},
   "source": [
    "### Тестирование EM-алгоритма на синтетических данных\n",
    "\n",
    "__Задание 2 (0.5 балла, включая вопрос ниже).__ Протестируйте вашу реализацию на синтетических данных, сгенерированных выше в ноутбуке: запустите алгоритм на данных X с числом гауссиан, равным 3, __визуализируйте__, к какому кластеру отнесен каждый объект (получится трехцветный scatter-plot в осях двух признаков), а также __визуализируйте__ средние обученных гауссиан (на этом же графике). Чтобы определить принадлежность объекта к кластеру, используйте максимум апостериорной вероятности. Для получения хорошего результата может понадобиться перезапустить EM-алгоритм из другой начальной инициализации."
   ]
  },
  {
   "cell_type": "code",
   "execution_count": null,
   "metadata": {
    "collapsed": true
   },
   "outputs": [],
   "source": [
    "### your code here\n"
   ]
  },
  {
   "cell_type": "markdown",
   "metadata": {},
   "source": [
    "__Вопрос:__ получились ли матрицы ковариации, близкие к тем, которые использовались при генерации случайных данных?\n",
    "\n",
    "__Ответ:__ "
   ]
  },
  {
   "cell_type": "code",
   "execution_count": null,
   "metadata": {
    "collapsed": true
   },
   "outputs": [],
   "source": [
    "### your code here (for question)\n"
   ]
  },
  {
   "cell_type": "markdown",
   "metadata": {},
   "source": [
    "EM-алгоритм выполняет \"мягкую\" кластеризацию: для каждого объекта определяется, с какой вероятностью он принадлежит к каждому из кластеров, вместо того, чтобы выбирать один кластер (\"жесткая\" кластеризация). Чтобы иллюстрировать это свойство, используем EM-алгоритм для разделения двух близко расположенных гауссиан. Сгенерируем такие данные:"
   ]
  },
  {
   "cell_type": "code",
   "execution_count": 12,
   "metadata": {},
   "outputs": [
    {
     "data": {
      "text/plain": [
       "Text(0,0.5,'feature 2')"
      ]
     },
     "execution_count": 12,
     "metadata": {},
     "output_type": "execute_result"
    },
    {
     "data": {
      "image/png": "[encoded data removed]",
      "text/plain": [
       "<matplotlib.figure.Figure at 0x1a1e11cc88>"
      ]
     },
     "metadata": {},
     "output_type": "display_data"
    }
   ],
   "source": [
    "X0 = np.random.multivariate_normal([0, -0.5], 0.15*np.eye(2), size=200)\n",
    "X1 = np.random.multivariate_normal([0, 0.5], 0.15*np.eye(2), size=200)\n",
    "X2 = np.vstack([X0, X1])\n",
    "plt.scatter(*X0.T)\n",
    "plt.scatter(*X1.T)\n",
    "plt.xlabel(\"feature 1\")\n",
    "plt.ylabel(\"feature 2\")"
   ]
  },
  {
   "cell_type": "markdown",
   "metadata": {},
   "source": [
    "__Задание 3 (0.5 балла).__ Обучите вашу реализацию EM-алгоритма с числом гауссиан, равным 2, на сгенерированных данных. Сделайте __две__ визуализации: одна для жесткой кластеризации (цвета показывают, к какому кластеру отнесен каждый объект - аналогично предыдущей визуализации) и одна для мягкой кластеризации (цвета показывают апостериорную вероятность первой гауссианы). __Сделайте выводы из этих визуализаций.__ Для получения хорошего результата может понадобиться перезапустить EM-алгоритм из другой начальной инициализации."
   ]
  },
  {
   "cell_type": "code",
   "execution_count": null,
   "metadata": {
    "collapsed": true
   },
   "outputs": [],
   "source": [
    "### your code here\n"
   ]
  },
  {
   "cell_type": "markdown",
   "metadata": {},
   "source": [
    "__Ваш вывод:__ "
   ]
  },
  {
   "cell_type": "markdown",
   "metadata": {},
   "source": [
    "### Тестирование EM-алгоритма на данных с изображениями\n",
    "\n",
    "Теперь протестируем реализацию на данных изображений цифр. Будем использовать стандартный набор данных digits. Нормируем данные (для численной устойчивости) и обрежем рамку толщиной один пиксель (также для численной устойчивости)."
   ]
  },
  {
   "cell_type": "code",
   "execution_count": null,
   "metadata": {
    "collapsed": true
   },
   "outputs": [],
   "source": [
    "from sklearn.datasets import load_digits\n",
    "from sklearn.preprocessing import StandardScaler"
   ]
  },
  {
   "cell_type": "code",
   "execution_count": null,
   "metadata": {
    "collapsed": true
   },
   "outputs": [],
   "source": [
    "digits = load_digits()\n",
    "X_dig = digits[\"data\"]\n",
    "y_dig = digits[\"target\"]\n",
    "X_dig.shape"
   ]
  },
  {
   "cell_type": "code",
   "execution_count": null,
   "metadata": {
    "collapsed": true
   },
   "outputs": [],
   "source": [
    "scaler = StandardScaler()\n",
    "X_dig_sc = scaler.fit_transform(X_dig)"
   ]
  },
  {
   "cell_type": "code",
   "execution_count": null,
   "metadata": {
    "collapsed": true
   },
   "outputs": [],
   "source": [
    "X_dig_cr = X_dig_sc.reshape(-1, 8, 8)[:, 1:-1, 1:-1].\\\n",
    "                    reshape(X_dig_sc.shape[0], -1)"
   ]
  },
  {
   "cell_type": "markdown",
   "metadata": {},
   "source": [
    "__Задание 4 (каждый пункт 1 балл).__ Примените EM-алгоритм к данным, использовав число гауссиан, равное 10. \n",
    "1. Изобразите средние всех десяти гауссиан в виде изображений 6x6, подписав (в plt.title) номер гауссианы. Напечатайте, к какому кластеру отнесены первые 10 объектов выборки. Напечатайте их классы согласно данным. Можно ли сказать, что какие-то кластеры соответствуют конкретным цифрам? Какие? Приветствуется другой анализ визуализации. Может потребоваться перезапустить EM-алгоритм.\n",
    "2. Найдите несколько объектов (>=3), у которых максимальная апостериорная вероятность меньше 0.9. Визуализируйте эти объекты в виде изображений 6x6, определите для них две наибольшие предсказанные апостериорные вероятности. Можно ли проинтерпретировать, почему эти объекты находятся на \"границе\" кластеров? Как? Чтобы найти >=3 объектов, удовлетворяющих условию, может потребоваться перезапустить EM-алгоритм. В этом случае сделайте отдельную визуализацию средних гауссиан для нового запуска."
   ]
  },
  {
   "cell_type": "code",
   "execution_count": null,
   "metadata": {
    "collapsed": true
   },
   "outputs": [],
   "source": [
    "# your code here\n"
   ]
  },
  {
   "cell_type": "markdown",
   "metadata": {},
   "source": [
    "__Выводы к пункту 1:__ "
   ]
  },
  {
   "cell_type": "code",
   "execution_count": null,
   "metadata": {
    "collapsed": true
   },
   "outputs": [],
   "source": [
    "### your code here\n"
   ]
  },
  {
   "cell_type": "markdown",
   "metadata": {},
   "source": [
    "__Выводы к пункту 2:__ "
   ]
  },
  {
   "cell_type": "code",
   "execution_count": null,
   "metadata": {
    "collapsed": true
   },
   "outputs": [],
   "source": []
  }
 ],
 "metadata": {
  "kernelspec": {
   "display_name": "Python 3",
   "language": "python",
   "name": "python3"
  },
  "language_info": {
   "codemirror_mode": {
    "name": "ipython",
    "version": 3
   },
   "file_extension": ".py",
   "mimetype": "text/x-python",
   "name": "python",
   "nbconvert_exporter": "python",
   "pygments_lexer": "ipython3",
   "version": "3.6.3"
  }
 },
 "nbformat": 4,
 "nbformat_minor": 2
}
